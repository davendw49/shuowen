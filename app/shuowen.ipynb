{
 "cells": [
  {
   "cell_type": "code",
   "execution_count": 1,
   "metadata": {},
   "outputs": [],
   "source": [
    "import re\n",
    "import sys\n",
    "import pydocx\n",
    "import codecs\n",
    "import pymysql\n",
    "from tqdm import tqdm\n",
    "from bs4 import BeautifulSoup"
   ]
  },
  {
   "cell_type": "code",
   "execution_count": 2,
   "metadata": {},
   "outputs": [],
   "source": [
    "def p_discriminate(p):\n",
    "    if str(p).find(\"img\") != -1:\n",
    "        return (0, \"pic\")\n",
    "    else:\n",
    "        return (1, \"book\")"
   ]
  },
  {
   "cell_type": "code",
   "execution_count": 19,
   "metadata": {},
   "outputs": [],
   "source": [
    "class tiban():\n",
    "    '''\n",
    "    a tiban class represents a tiban's basic structural information including imgs and the number of tiban\n",
    "    '''\n",
    "    def __init__(self, input_file, output_file):\n",
    "        '''\n",
    "        init the class\n",
    "        para: input_file: the file need to be rearrange \n",
    "        pare: output_file: the file after rearrange\n",
    "        '''\n",
    "        self.tiban_html = pydocx.PyDocX.to_html(input_file)\n",
    "        self.tiban_soup = BeautifulSoup(self.tiban_html)\n",
    "        self.input = input_file\n",
    "        self.output = output_file\n",
    "        self.errors = []\n",
    "        self.character = {}\n",
    "        self.ch_dict = {}\n",
    "        self.p_list = self.tiban_soup.select('p')\n",
    "    \n",
    "    def parse(self):\n",
    "        '''\n",
    "        parse the file (html form)\n",
    "        para: self\n",
    "        '''\n",
    "        p_list = self.p_list\n",
    "        flag = 0\n",
    "        # if the pre_stage = 1 means that the situation is booknum, 0 means the pictures\n",
    "        pre_stage = 0\n",
    "        pre_tag = 0\n",
    "        this_booknum = \"\"\n",
    "        this_character = []\n",
    "        pre_num = \"\"\n",
    "        for p in tqdm(p_list):\n",
    "            if flag%2 == 0:\n",
    "                this_booknum = \"\"\n",
    "            else:\n",
    "                this_character = []\n",
    "            if flag%2 == 0:\n",
    "                stage = p_discriminate(p)[0]\n",
    "                if stage == 1:\n",
    "                    if stage != pre_stage:\n",
    "                        this_booknum = p.text\n",
    "                        pre_stage = stage\n",
    "                    else:\n",
    "                        self.errors.append((\"error 1 多重简号或者换行符有误\", pre_num, p.text, \"flag=\"+str(flag)))\n",
    "                        return flag\n",
    "                else:\n",
    "                    self.errors.append((\"error 2 多重简号或者字体截图中换行符有误\", pre_num, p.text, \"flag=\"+str(flag)))\n",
    "                    return flag\n",
    "            else:\n",
    "                stage = p_discriminate(p)[0]\n",
    "                if stage == 0:\n",
    "                    children = p.children\n",
    "                    tag = 1 # 0: character, 1:image\n",
    "                    cflag = 0\n",
    "                    for child in children:\n",
    "                        # if str(child)\n",
    "                        if cflag%2 ==0:\n",
    "                            if str(child).find(\"img\") == -1:\n",
    "                                tag = 0\n",
    "                                pre_tag = tag\n",
    "                                tmp_pair_character = str(child).strip()\n",
    "                            else:\n",
    "                                self.errors.append((\"error 3 出现连续文字结点\", this_booknum, p.text, \"flag=\"+str(flag)))\n",
    "                                return flag\n",
    "                        else:\n",
    "                            if str(child).find(\"img\") != -1:\n",
    "                                tag = 1\n",
    "                                if tag != pre_tag:\n",
    "                                    tmp_pair_image = str(child)\n",
    "                                else:\n",
    "                                    self.errors.append((\"error 4 出现连续图片\", this_booknum, p.text, \"flag=\"+str(flag)))\n",
    "                                    return flag\n",
    "                            else:\n",
    "                                self.errors.append((\"error 5 出现连续文字结点\", this_booknum, str(child), \"flag=\"+str(flag)))\n",
    "                                return flag\n",
    "                \n",
    "                            if len(tmp_pair_character)!=0 and len(tmp_pair_image)!=0:\n",
    "                                this_character.append((tmp_pair_character, tmp_pair_image))\n",
    "                        cflag+=1\n",
    "                    pre_stage = stage\n",
    "                else:\n",
    "                    self.errors.append((\"error 6 多重简号或者换行符有误\", this_booknum, p.text, \"flag=\",flag))\n",
    "                    # return flag\n",
    "                    flag-=1\n",
    "            \n",
    "            if len(this_booknum)!=0 and len(this_character)!=0 and flag%2==1:\n",
    "                # print(flag, len(this_booknum),len(this_character))\n",
    "                self.character[this_booknum] = this_character\n",
    "            pre_num = this_booknum\n",
    "            flag += 1\n",
    "    \n",
    "    def array2dict(self):\n",
    "        array = self.character\n",
    "        self.ch_dict = {}\n",
    "        for k in array.keys():\n",
    "            for item in array[k]:\n",
    "                if item[0] not in self.ch_dict.keys():\n",
    "                    self.ch_dict[item[0]] = []\n",
    "                    self.ch_dict[item[0]].append((item[1], k))\n",
    "                else:\n",
    "                    self.ch_dict[item[0]].append((item[1], k))\n",
    "                    \n",
    "    def get_error(self):\n",
    "        return self.errors\n",
    "    \n",
    "    def get_output_html(self):\n",
    "        f = open(self.output, \"w\", encoding=\"utf8\")\n",
    "        for k in self.ch_dict.keys():\n",
    "            print(\"<p>\"+k+\"</p>\", file=f)\n",
    "            print(\"<p>\", end=\"\", file=f)\n",
    "            for item in self.ch_dict[k]:\n",
    "                print(item[0], end=\"\", file=f)\n",
    "                print(item[1], end=\",\", file=f)\n",
    "            print(\"</p>\", file=f)\n",
    "        f.close()"
   ]
  },
  {
   "cell_type": "code",
   "execution_count": 26,
   "metadata": {},
   "outputs": [
    {
     "name": "stderr",
     "output_type": "stream",
     "text": [
      "100%|██████████| 4/4 [00:00<00:00, 34.40it/s]\n"
     ]
    }
   ],
   "source": [
    "tb = tiban('73EJT.docx', '73EJT.html')\n",
    "tb.parse()\n",
    "tb.array2dict()\n",
    "tb.get_output_html()"
   ]
  },
  {
   "cell_type": "code",
   "execution_count": 27,
   "metadata": {},
   "outputs": [
    {
     "data": {
      "text/plain": [
       "[]"
      ]
     },
     "execution_count": 27,
     "metadata": {},
     "output_type": "execute_result"
    }
   ],
   "source": [
    "tb.errors"
   ]
  },
  {
   "cell_type": "code",
   "execution_count": 25,
   "metadata": {},
   "outputs": [
    {
     "name": "stdout",
     "output_type": "stream",
     "text": [
      "2\n"
     ]
    }
   ],
   "source": [
    "print(len(tb.p_list))"
   ]
  },
  {
   "cell_type": "code",
   "execution_count": 126,
   "metadata": {},
   "outputs": [],
   "source": [
    "if __name__=='__main__':\n",
    "    tb = tiban('../data/test0.docx', 'test0_out.docx')"
   ]
  },
  {
   "cell_type": "code",
   "execution_count": null,
   "metadata": {},
   "outputs": [],
   "source": []
  },
  {
   "cell_type": "code",
   "execution_count": null,
   "metadata": {},
   "outputs": [],
   "source": []
  }
 ],
 "metadata": {
  "kernelspec": {
   "display_name": "Python 3",
   "language": "python",
   "name": "python3"
  },
  "language_info": {
   "codemirror_mode": {
    "name": "ipython",
    "version": 3
   },
   "file_extension": ".py",
   "mimetype": "text/x-python",
   "name": "python",
   "nbconvert_exporter": "python",
   "pygments_lexer": "ipython3",
   "version": "3.6.8"
  }
 },
 "nbformat": 4,
 "nbformat_minor": 4
}
