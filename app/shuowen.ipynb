{
 "cells": [
  {
   "cell_type": "code",
   "execution_count": 33,
   "metadata": {},
   "outputs": [],
   "source": [
    "import re\n",
    "import sys\n",
    "import pydocx\n",
    "import codecs\n",
    "import pymysql\n",
    "import pypandoc\n",
    "from tqdm import tqdm\n",
    "from bs4 import BeautifulSoup"
   ]
  },
  {
   "cell_type": "code",
   "execution_count": 6,
   "metadata": {},
   "outputs": [],
   "source": [
    "def p_discriminate(p):\n",
    "    if str(p).find(\"img\") != -1:\n",
    "        return (0, \"pic\")\n",
    "    else:\n",
    "        return (1, \"book\")"
   ]
  },
  {
   "cell_type": "code",
   "execution_count": 35,
   "metadata": {},
   "outputs": [],
   "source": [
    "class tiban():\n",
    "    '''\n",
    "    a tiban class represents a tiban's basic structural information including imgs and the number of tiban\n",
    "    '''\n",
    "    def __init__(self, input_file, output_file):\n",
    "        '''\n",
    "        init the class\n",
    "        para: input_file: the file need to be rearrange \n",
    "        pare: output_file: the file after rearrange\n",
    "        '''\n",
    "        self.tiban_html = pydocx.PyDocX.to_html(input_file)\n",
    "        self.tiban_soup = BeautifulSoup(self.tiban_html)\n",
    "        self.input = input_file\n",
    "        self.output = output_file\n",
    "        self.errors = []\n",
    "        self.character = {}\n",
    "        self.ch_dict = {}\n",
    "        self.p_list = self.tiban_soup.select('p')\n",
    "    \n",
    "    def parse(self):\n",
    "        '''\n",
    "        parse the file (html form)\n",
    "        para: self\n",
    "        '''\n",
    "        p_list = self.p_list\n",
    "        flag = 0\n",
    "        # if the pre_stage = 1 means that the situation is booknum, 0 means the pictures\n",
    "        pre_stage = 0\n",
    "        pre_tag = 0\n",
    "        this_booknum = \"\"\n",
    "        this_character = []\n",
    "        pre_num = \"\"\n",
    "        for p in tqdm(p_list):\n",
    "            if flag%2 == 0:\n",
    "                this_booknum = \"\"\n",
    "            else:\n",
    "                this_character = []\n",
    "            if flag%2 == 0:\n",
    "                stage = p_discriminate(p)[0]\n",
    "                if stage == 1:\n",
    "                    if stage != pre_stage:\n",
    "                        this_booknum = p.text\n",
    "                        pre_stage = stage\n",
    "                    else:\n",
    "                        self.errors.append((\"error 1 多重简号或者换行符有误\", pre_num, p.text, \"flag=\"+str(flag)))\n",
    "                        return flag\n",
    "                else:\n",
    "                    self.errors.append((\"error 2 缺省简号或者字体截图中换行符有误\", pre_num, p.text, \"flag=\"+str(flag)))\n",
    "                    return flag\n",
    "            else:\n",
    "                stage = p_discriminate(p)[0]\n",
    "                if stage == 0:\n",
    "                    children = p.children\n",
    "                    tag = 1 # 0: character, 1:image\n",
    "                    cflag = 0\n",
    "                    for child in children:\n",
    "                        # if str(child)\n",
    "                        if cflag%2 ==0:\n",
    "                            if str(child).find(\"img\") == -1:\n",
    "                                tag = 0\n",
    "                                pre_tag = tag\n",
    "                                tmp_pair_character = str(child).strip()\n",
    "                            else:\n",
    "                                self.errors.append((\"error 3 出现连续文字结点\", this_booknum, p.text, \"flag=\"+str(flag)))\n",
    "                                return flag\n",
    "                        else:\n",
    "                            if str(child).find(\"img\") != -1:\n",
    "                                tag = 1\n",
    "                                if tag != pre_tag:\n",
    "                                    tmp_pair_image = str(child)\n",
    "                                else:\n",
    "                                    self.errors.append((\"error 4 出现连续图片\", this_booknum, p.text, \"flag=\"+str(flag)))\n",
    "                                    return flag\n",
    "                            else:\n",
    "                                self.errors.append((\"error 5 出现连续文字结点\", this_booknum, str(child), \"flag=\"+str(flag)))\n",
    "                                return flag\n",
    "                \n",
    "                            if len(tmp_pair_character)!=0 and len(tmp_pair_image)!=0:\n",
    "                                this_character.append((tmp_pair_character, tmp_pair_image))\n",
    "                        cflag+=1\n",
    "                    pre_stage = stage\n",
    "                else:\n",
    "                    self.errors.append((\"error 6 多重简号或者换行符有误\", this_booknum, p.text, \"flag=\",flag))\n",
    "                    return flag\n",
    "                    # flag-=1\n",
    "            \n",
    "            if len(this_booknum)!=0 and len(this_character)!=0 and flag%2==1:\n",
    "                # print(flag, len(this_booknum),len(this_character))\n",
    "                self.character[this_booknum] = this_character\n",
    "            pre_num = this_booknum\n",
    "            flag += 1\n",
    "    \n",
    "    def array2dict(self):\n",
    "        array = self.character\n",
    "        self.ch_dict = {}\n",
    "        for k in array.keys():\n",
    "            for item in array[k]:\n",
    "                if item[0] not in self.ch_dict.keys():\n",
    "                    self.ch_dict[item[0]] = []\n",
    "                    self.ch_dict[item[0]].append((item[1], k))\n",
    "                else:\n",
    "                    self.ch_dict[item[0]].append((item[1], k))\n",
    "                    \n",
    "    def get_error(self):\n",
    "        return self.errors\n",
    "    \n",
    "    def get_output_html(self):\n",
    "        f = open(self.output, \"w\", encoding=\"utf8\")\n",
    "        for k in self.ch_dict.keys():\n",
    "            print(\"<p>\"+k+\"</p>\", file=f)\n",
    "            print(\"<p>\", end=\"\", file=f)\n",
    "            for item in self.ch_dict[k]:\n",
    "                print(item[0], end=\"\", file=f)\n",
    "                print(item[1], end=\",\", file=f)\n",
    "            print(\"</p>\", file=f)\n",
    "        f.close()\n",
    "        \n",
    "    def get_output_docx(self):\n",
    "        output = pypandoc.convert_file(self.output, 'docx', outputfile=\"out.docx\", extra_args=[\"-M4GB\", \"+RTS\", \"-K64m\", \"-RTS\"], encoding='utf8')"
   ]
  },
  {
   "cell_type": "code",
   "execution_count": 36,
   "metadata": {},
   "outputs": [
    {
     "name": "stderr",
     "output_type": "stream",
     "text": [
      "100%|████████████████████████████████████████████████████████████████████████████████████████████████████████████████████████████████████████| 368/368 [00:05<00:00, 67.53it/s]\n"
     ]
    }
   ],
   "source": [
    "tb = tiban('../data/084.docx', 'res.html')\n",
    "tb.parse()\n",
    "tb.array2dict()\n",
    "tb.get_output_html()"
   ]
  },
  {
   "cell_type": "code",
   "execution_count": 37,
   "metadata": {},
   "outputs": [
    {
     "data": {
      "text/plain": [
       "[]"
      ]
     },
     "execution_count": 37,
     "metadata": {},
     "output_type": "execute_result"
    }
   ],
   "source": [
    "tb.errors"
   ]
  },
  {
   "cell_type": "code",
   "execution_count": 38,
   "metadata": {},
   "outputs": [
    {
     "ename": "RuntimeError",
     "evalue": "Pandoc died with exitcode \"251\" during conversion: b'pandoc: getMBlocks: VirtualAlloc MEM_COMMIT failed: \\xd2\\xb3\\xc3\\xe6\\xce\\xc4\\xbc\\xfe\\xcc\\xab\\xd0\\xa1\\xa3\\xac\\xce\\xde\\xb7\\xa8\\xcd\\xea\\xb3\\xc9\\xb2\\xd9\\xd7\\xf7\\xa1\\xa3\\r\\r\\n'",
     "output_type": "error",
     "traceback": [
      "\u001b[1;31m---------------------------------------------------------------------------\u001b[0m",
      "\u001b[1;31mRuntimeError\u001b[0m                              Traceback (most recent call last)",
      "\u001b[1;32m<ipython-input-38-dd4e13859451>\u001b[0m in \u001b[0;36m<module>\u001b[1;34m\u001b[0m\n\u001b[1;32m----> 1\u001b[1;33m \u001b[0mtb\u001b[0m\u001b[1;33m.\u001b[0m\u001b[0mget_output_docx\u001b[0m\u001b[1;33m(\u001b[0m\u001b[1;33m)\u001b[0m\u001b[1;33m\u001b[0m\u001b[1;33m\u001b[0m\u001b[0m\n\u001b[0m",
      "\u001b[1;32m<ipython-input-35-54acb54c4bfe>\u001b[0m in \u001b[0;36mget_output_docx\u001b[1;34m(self)\u001b[0m\n\u001b[0;32m    117\u001b[0m \u001b[1;33m\u001b[0m\u001b[0m\n\u001b[0;32m    118\u001b[0m     \u001b[1;32mdef\u001b[0m \u001b[0mget_output_docx\u001b[0m\u001b[1;33m(\u001b[0m\u001b[0mself\u001b[0m\u001b[1;33m)\u001b[0m\u001b[1;33m:\u001b[0m\u001b[1;33m\u001b[0m\u001b[1;33m\u001b[0m\u001b[0m\n\u001b[1;32m--> 119\u001b[1;33m         \u001b[0moutput\u001b[0m \u001b[1;33m=\u001b[0m \u001b[0mpypandoc\u001b[0m\u001b[1;33m.\u001b[0m\u001b[0mconvert_file\u001b[0m\u001b[1;33m(\u001b[0m\u001b[0mself\u001b[0m\u001b[1;33m.\u001b[0m\u001b[0moutput\u001b[0m\u001b[1;33m,\u001b[0m \u001b[1;34m'docx'\u001b[0m\u001b[1;33m,\u001b[0m \u001b[0moutputfile\u001b[0m\u001b[1;33m=\u001b[0m\u001b[1;34m\"out.docx\"\u001b[0m\u001b[1;33m,\u001b[0m \u001b[0mextra_args\u001b[0m\u001b[1;33m=\u001b[0m\u001b[1;33m[\u001b[0m\u001b[1;34m\"-M4GB\"\u001b[0m\u001b[1;33m,\u001b[0m \u001b[1;34m\"+RTS\"\u001b[0m\u001b[1;33m,\u001b[0m \u001b[1;34m\"-K64m\"\u001b[0m\u001b[1;33m,\u001b[0m \u001b[1;34m\"-RTS\"\u001b[0m\u001b[1;33m]\u001b[0m\u001b[1;33m)\u001b[0m\u001b[1;33m\u001b[0m\u001b[1;33m\u001b[0m\u001b[0m\n\u001b[0m",
      "\u001b[1;32mD:\\anaconda\\envs\\mysql-acemap\\lib\\site-packages\\pypandoc\\__init__.py\u001b[0m in \u001b[0;36mconvert_file\u001b[1;34m(source_file, to, format, extra_args, encoding, outputfile, filters)\u001b[0m\n\u001b[0;32m    138\u001b[0m     \u001b[0mformat\u001b[0m \u001b[1;33m=\u001b[0m \u001b[0m_identify_format_from_path\u001b[0m\u001b[1;33m(\u001b[0m\u001b[0msource_file\u001b[0m\u001b[1;33m,\u001b[0m \u001b[0mformat\u001b[0m\u001b[1;33m)\u001b[0m\u001b[1;33m\u001b[0m\u001b[1;33m\u001b[0m\u001b[0m\n\u001b[0;32m    139\u001b[0m     return _convert_input(source_file, format, 'path', to, extra_args=extra_args,\n\u001b[1;32m--> 140\u001b[1;33m                           outputfile=outputfile, filters=filters)\n\u001b[0m\u001b[0;32m    141\u001b[0m \u001b[1;33m\u001b[0m\u001b[0m\n\u001b[0;32m    142\u001b[0m \u001b[1;33m\u001b[0m\u001b[0m\n",
      "\u001b[1;32mD:\\anaconda\\envs\\mysql-acemap\\lib\\site-packages\\pypandoc\\__init__.py\u001b[0m in \u001b[0;36m_convert_input\u001b[1;34m(source, format, input_type, to, extra_args, outputfile, filters)\u001b[0m\n\u001b[0;32m    323\u001b[0m     \u001b[1;32mif\u001b[0m \u001b[0mp\u001b[0m\u001b[1;33m.\u001b[0m\u001b[0mreturncode\u001b[0m \u001b[1;33m!=\u001b[0m \u001b[1;36m0\u001b[0m\u001b[1;33m:\u001b[0m\u001b[1;33m\u001b[0m\u001b[1;33m\u001b[0m\u001b[0m\n\u001b[0;32m    324\u001b[0m         raise RuntimeError(\n\u001b[1;32m--> 325\u001b[1;33m             \u001b[1;34m'Pandoc died with exitcode \"%s\" during conversion: %s'\u001b[0m \u001b[1;33m%\u001b[0m \u001b[1;33m(\u001b[0m\u001b[0mp\u001b[0m\u001b[1;33m.\u001b[0m\u001b[0mreturncode\u001b[0m\u001b[1;33m,\u001b[0m \u001b[0mstderr\u001b[0m\u001b[1;33m)\u001b[0m\u001b[1;33m\u001b[0m\u001b[1;33m\u001b[0m\u001b[0m\n\u001b[0m\u001b[0;32m    326\u001b[0m         )\n\u001b[0;32m    327\u001b[0m \u001b[1;33m\u001b[0m\u001b[0m\n",
      "\u001b[1;31mRuntimeError\u001b[0m: Pandoc died with exitcode \"251\" during conversion: b'pandoc: getMBlocks: VirtualAlloc MEM_COMMIT failed: \\xd2\\xb3\\xc3\\xe6\\xce\\xc4\\xbc\\xfe\\xcc\\xab\\xd0\\xa1\\xa3\\xac\\xce\\xde\\xb7\\xa8\\xcd\\xea\\xb3\\xc9\\xb2\\xd9\\xd7\\xf7\\xa1\\xa3\\r\\r\\n'"
     ]
    }
   ],
   "source": [
    "tb.get_output_docx()"
   ]
  },
  {
   "cell_type": "code",
   "execution_count": 39,
   "metadata": {},
   "outputs": [
    {
     "ename": "RuntimeError",
     "evalue": "Pandoc died with exitcode \"251\" during conversion: b'pandoc: getMBlocks: VirtualAlloc MEM_COMMIT failed: \\xd2\\xb3\\xc3\\xe6\\xce\\xc4\\xbc\\xfe\\xcc\\xab\\xd0\\xa1\\xa3\\xac\\xce\\xde\\xb7\\xa8\\xcd\\xea\\xb3\\xc9\\xb2\\xd9\\xd7\\xf7\\xa1\\xa3\\r\\r\\n'",
     "output_type": "error",
     "traceback": [
      "\u001b[1;31m---------------------------------------------------------------------------\u001b[0m",
      "\u001b[1;31mRuntimeError\u001b[0m                              Traceback (most recent call last)",
      "\u001b[1;32m<ipython-input-39-aaab88c70165>\u001b[0m in \u001b[0;36m<module>\u001b[1;34m\u001b[0m\n\u001b[1;32m----> 1\u001b[1;33m \u001b[0mpypandoc\u001b[0m\u001b[1;33m.\u001b[0m\u001b[0mconvert_file\u001b[0m\u001b[1;33m(\u001b[0m\u001b[1;34m\"res.html\"\u001b[0m\u001b[1;33m,\u001b[0m \u001b[1;34m'docx'\u001b[0m\u001b[1;33m,\u001b[0m \u001b[0moutputfile\u001b[0m\u001b[1;33m=\u001b[0m\u001b[1;34m\"out.docx\"\u001b[0m\u001b[1;33m,\u001b[0m \u001b[0mextra_args\u001b[0m\u001b[1;33m=\u001b[0m\u001b[1;33m[\u001b[0m\u001b[1;34m\"-M4GB\"\u001b[0m\u001b[1;33m,\u001b[0m \u001b[1;34m\"+RTS\"\u001b[0m\u001b[1;33m,\u001b[0m \u001b[1;34m\"-K64m\"\u001b[0m\u001b[1;33m,\u001b[0m \u001b[1;34m\"-RTS\"\u001b[0m\u001b[1;33m]\u001b[0m\u001b[1;33m,\u001b[0m \u001b[0mencoding\u001b[0m\u001b[1;33m=\u001b[0m\u001b[1;34m'utf8'\u001b[0m\u001b[1;33m)\u001b[0m\u001b[1;33m\u001b[0m\u001b[1;33m\u001b[0m\u001b[0m\n\u001b[0m",
      "\u001b[1;32mD:\\anaconda\\envs\\mysql-acemap\\lib\\site-packages\\pypandoc\\__init__.py\u001b[0m in \u001b[0;36mconvert_file\u001b[1;34m(source_file, to, format, extra_args, encoding, outputfile, filters)\u001b[0m\n\u001b[0;32m    138\u001b[0m     \u001b[0mformat\u001b[0m \u001b[1;33m=\u001b[0m \u001b[0m_identify_format_from_path\u001b[0m\u001b[1;33m(\u001b[0m\u001b[0msource_file\u001b[0m\u001b[1;33m,\u001b[0m \u001b[0mformat\u001b[0m\u001b[1;33m)\u001b[0m\u001b[1;33m\u001b[0m\u001b[1;33m\u001b[0m\u001b[0m\n\u001b[0;32m    139\u001b[0m     return _convert_input(source_file, format, 'path', to, extra_args=extra_args,\n\u001b[1;32m--> 140\u001b[1;33m                           outputfile=outputfile, filters=filters)\n\u001b[0m\u001b[0;32m    141\u001b[0m \u001b[1;33m\u001b[0m\u001b[0m\n\u001b[0;32m    142\u001b[0m \u001b[1;33m\u001b[0m\u001b[0m\n",
      "\u001b[1;32mD:\\anaconda\\envs\\mysql-acemap\\lib\\site-packages\\pypandoc\\__init__.py\u001b[0m in \u001b[0;36m_convert_input\u001b[1;34m(source, format, input_type, to, extra_args, outputfile, filters)\u001b[0m\n\u001b[0;32m    323\u001b[0m     \u001b[1;32mif\u001b[0m \u001b[0mp\u001b[0m\u001b[1;33m.\u001b[0m\u001b[0mreturncode\u001b[0m \u001b[1;33m!=\u001b[0m \u001b[1;36m0\u001b[0m\u001b[1;33m:\u001b[0m\u001b[1;33m\u001b[0m\u001b[1;33m\u001b[0m\u001b[0m\n\u001b[0;32m    324\u001b[0m         raise RuntimeError(\n\u001b[1;32m--> 325\u001b[1;33m             \u001b[1;34m'Pandoc died with exitcode \"%s\" during conversion: %s'\u001b[0m \u001b[1;33m%\u001b[0m \u001b[1;33m(\u001b[0m\u001b[0mp\u001b[0m\u001b[1;33m.\u001b[0m\u001b[0mreturncode\u001b[0m\u001b[1;33m,\u001b[0m \u001b[0mstderr\u001b[0m\u001b[1;33m)\u001b[0m\u001b[1;33m\u001b[0m\u001b[1;33m\u001b[0m\u001b[0m\n\u001b[0m\u001b[0;32m    326\u001b[0m         )\n\u001b[0;32m    327\u001b[0m \u001b[1;33m\u001b[0m\u001b[0m\n",
      "\u001b[1;31mRuntimeError\u001b[0m: Pandoc died with exitcode \"251\" during conversion: b'pandoc: getMBlocks: VirtualAlloc MEM_COMMIT failed: \\xd2\\xb3\\xc3\\xe6\\xce\\xc4\\xbc\\xfe\\xcc\\xab\\xd0\\xa1\\xa3\\xac\\xce\\xde\\xb7\\xa8\\xcd\\xea\\xb3\\xc9\\xb2\\xd9\\xd7\\xf7\\xa1\\xa3\\r\\r\\n'"
     ]
    }
   ],
   "source": [
    "pypandoc.convert_file(\"res.html\", 'docx', outputfile=\"out.docx\", extra_args=[\"-M4GB\", \"+RTS\", \"-K256m\", \"-RTS\"], encoding='utf8')"
   ]
  },
  {
   "cell_type": "code",
   "execution_count": 126,
   "metadata": {},
   "outputs": [],
   "source": [
    "if __name__=='__main__':\n",
    "    tb = tiban('../data/test0.docx', 'test0_out.docx')"
   ]
  },
  {
   "cell_type": "code",
   "execution_count": 43,
   "metadata": {},
   "outputs": [
    {
     "ename": "com_error",
     "evalue": "(-2147352567, '发生意外。', (0, 'Microsoft Word', 'Word 出现问题。', 'wdmain11.chm', 24577, -2146823191), None)",
     "output_type": "error",
     "traceback": [
      "\u001b[1;31m---------------------------------------------------------------------------\u001b[0m",
      "\u001b[1;31mcom_error\u001b[0m                                 Traceback (most recent call last)",
      "\u001b[1;32m<ipython-input-43-97c93f56c77a>\u001b[0m in \u001b[0;36m<module>\u001b[1;34m\u001b[0m\n\u001b[0;32m      2\u001b[0m \u001b[1;33m\u001b[0m\u001b[0m\n\u001b[0;32m      3\u001b[0m \u001b[0mword\u001b[0m \u001b[1;33m=\u001b[0m \u001b[0mwin32com\u001b[0m\u001b[1;33m.\u001b[0m\u001b[0mclient\u001b[0m\u001b[1;33m.\u001b[0m\u001b[0mDispatchEx\u001b[0m\u001b[1;33m(\u001b[0m\u001b[1;34m'Word.Application'\u001b[0m\u001b[1;33m)\u001b[0m\u001b[1;33m\u001b[0m\u001b[1;33m\u001b[0m\u001b[0m\n\u001b[1;32m----> 4\u001b[1;33m \u001b[0mdoc\u001b[0m \u001b[1;33m=\u001b[0m \u001b[0mword\u001b[0m\u001b[1;33m.\u001b[0m\u001b[0mDocuments\u001b[0m\u001b[1;33m.\u001b[0m\u001b[0mAdd\u001b[0m\u001b[1;33m(\u001b[0m\u001b[1;34m'D:\\\\Github\\\\shuowen\\\\app\\\\res.html'\u001b[0m\u001b[1;33m)\u001b[0m\u001b[1;33m\u001b[0m\u001b[1;33m\u001b[0m\u001b[0m\n\u001b[0m\u001b[0;32m      5\u001b[0m \u001b[0mdoc\u001b[0m\u001b[1;33m.\u001b[0m\u001b[0mSaveAs\u001b[0m\u001b[1;33m(\u001b[0m\u001b[1;34m'example.doc'\u001b[0m\u001b[1;33m,\u001b[0m \u001b[0mFileFormat\u001b[0m\u001b[1;33m=\u001b[0m\u001b[1;36m0\u001b[0m\u001b[1;33m)\u001b[0m\u001b[1;33m\u001b[0m\u001b[1;33m\u001b[0m\u001b[0m\n\u001b[0;32m      6\u001b[0m \u001b[0mdoc\u001b[0m\u001b[1;33m.\u001b[0m\u001b[0mClose\u001b[0m\u001b[1;33m(\u001b[0m\u001b[1;33m)\u001b[0m\u001b[1;33m\u001b[0m\u001b[1;33m\u001b[0m\u001b[0m\n",
      "\u001b[1;32mD:\\anaconda\\envs\\mysql-acemap\\lib\\site-packages\\win32com\\client\\dynamic.py\u001b[0m in \u001b[0;36mAdd\u001b[1;34m(self, Template, NewTemplate, DocumentType, Visible)\u001b[0m\n",
      "\u001b[1;31mcom_error\u001b[0m: (-2147352567, '发生意外。', (0, 'Microsoft Word', 'Word 出现问题。', 'wdmain11.chm', 24577, -2146823191), None)"
     ]
    }
   ],
   "source": [
    "import win32com.client\n",
    "\n",
    "word = win32com.client.DispatchEx('Word.Application')\n",
    "doc = word.Documents.Add('D:\\\\Github\\\\shuowen\\\\app\\\\res.html')\n",
    "doc.SaveAs('example.doc', FileFormat=0)\n",
    "doc.Close()\n",
    "word.Quit() "
   ]
  },
  {
   "cell_type": "code",
   "execution_count": null,
   "metadata": {},
   "outputs": [],
   "source": []
  }
 ],
 "metadata": {
  "kernelspec": {
   "display_name": "Python 3",
   "language": "python",
   "name": "python3"
  },
  "language_info": {
   "codemirror_mode": {
    "name": "ipython",
    "version": 3
   },
   "file_extension": ".py",
   "mimetype": "text/x-python",
   "name": "python",
   "nbconvert_exporter": "python",
   "pygments_lexer": "ipython3",
   "version": "3.7.3"
  }
 },
 "nbformat": 4,
 "nbformat_minor": 4
}
