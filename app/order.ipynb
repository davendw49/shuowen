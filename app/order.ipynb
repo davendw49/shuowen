{
 "cells": [
  {
   "cell_type": "code",
   "execution_count": 15,
   "metadata": {},
   "outputs": [],
   "source": [
    "from bs4 import BeautifulSoup\n",
    "from docx import Document\n",
    "from tqdm import tqdm"
   ]
  },
  {
   "cell_type": "code",
   "execution_count": 4,
   "metadata": {},
   "outputs": [],
   "source": [
    "def re_the_src(img_src):\n",
    "    this_img = BeautifulSoup(img_src, features=\"lxml\").find('img')\n",
    "    src = str(this_img.get('src'))\n",
    "    img_id = src.split(\"/\")[1]\n",
    "    return img_id"
   ]
  },
  {
   "cell_type": "code",
   "execution_count": 5,
   "metadata": {},
   "outputs": [],
   "source": [
    "def re_src_list(srcs):\n",
    "    img_ids = []\n",
    "    for src in srcs:\n",
    "        img_ids.append(re_the_src(src))\n",
    "    return img_ids"
   ]
  },
  {
   "cell_type": "code",
   "execution_count": 6,
   "metadata": {},
   "outputs": [],
   "source": [
    "f = open(\"dcd1.js\", \"r\", encoding=\"utf8\")"
   ]
  },
  {
   "cell_type": "code",
   "execution_count": 8,
   "metadata": {},
   "outputs": [],
   "source": [
    "f_single = open(\"single.txt\", \"w\", encoding=\"utf8\")\n",
    "f_multiple = open(\"multiple.txt\", \"w\", encoding=\"utf8\")\n",
    "multiple = []\n",
    "for line in f:\n",
    "    if len(line[:-1].split(\",\")) != 10:\n",
    "        print(line[:-1])\n",
    "    else:\n",
    "        c = line[:-1].split(\",\")\n",
    "        id = c[0].split(\"'\")[1]\n",
    "        img = re_src_list(c[3].split(\"'\")[1].split(\"<br>\"))\n",
    "        char = c[4].split(\"'\")[1].replace('<div style=\"display:none;\">_','',1)\n",
    "        if len(char) == 1:\n",
    "            print(id, img, char, file=f_single)\n",
    "        else:\n",
    "            print(id, img, char, file=f_multiple)\n",
    "            multiple.append((id, img, char))\n",
    "f_single.close()\n",
    "f_multiple.close()"
   ]
  },
  {
   "cell_type": "code",
   "execution_count": 9,
   "metadata": {},
   "outputs": [],
   "source": [
    "f.close()"
   ]
  },
  {
   "cell_type": "code",
   "execution_count": 17,
   "metadata": {},
   "outputs": [],
   "source": [
    "def convertdoc(m):\n",
    "    document = Document()\n",
    "    for k in tqdm(m):\n",
    "        paragraph_m = document.add_paragraph()\n",
    "        paragraph_m.add_run(k[0])\n",
    "        paragraph_m.add_run(\": \")\n",
    "        for item in k[1]:\n",
    "            paragraph_m.add_run().add_picture(\"sam/\"+item)\n",
    "        paragraph_m.add_run(k[2])\n",
    "    document.save('m.docx')"
   ]
  },
  {
   "cell_type": "code",
   "execution_count": 19,
   "metadata": {},
   "outputs": [
    {
     "name": "stderr",
     "output_type": "stream",
     "text": [
      "100%|████████████████████████████████████████████████████| 4545/4545 [10:58<00:00,  6.90it/s]\n"
     ]
    }
   ],
   "source": [
    "convertdoc(multiple)"
   ]
  },
  {
   "cell_type": "code",
   "execution_count": null,
   "metadata": {},
   "outputs": [],
   "source": []
  }
 ],
 "metadata": {
  "kernelspec": {
   "display_name": "Python 3",
   "language": "python",
   "name": "python3"
  },
  "language_info": {
   "codemirror_mode": {
    "name": "ipython",
    "version": 3
   },
   "file_extension": ".py",
   "mimetype": "text/x-python",
   "name": "python",
   "nbconvert_exporter": "python",
   "pygments_lexer": "ipython3",
   "version": "3.7.3"
  }
 },
 "nbformat": 4,
 "nbformat_minor": 4
}
