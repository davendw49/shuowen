{
 "cells": [
  {
   "cell_type": "code",
   "execution_count": 1,
   "metadata": {},
   "outputs": [],
   "source": [
    "import re\n",
    "import sys\n",
    "import pydocx\n",
    "import codecs\n",
    "import pymysql\n",
    "import pypandoc\n",
    "import os\n",
    "import base64\n",
    "import imghdr\n",
    "from wand.image import Image\n",
    "from tqdm import tqdm\n",
    "from docx import Document\n",
    "from docx.shared import Inches, Cm\n",
    "from bs4 import BeautifulSoup"
   ]
  },
  {
   "cell_type": "code",
   "execution_count": 2,
   "metadata": {},
   "outputs": [],
   "source": [
    "def convert_to_jpeg(picture):\n",
    "    '''\n",
    "    convert non-support image into jpg form\n",
    "    '''\n",
    "    img = Image(filename=picture)\n",
    "    img.format = 'jpeg'\n",
    "    fn = picture.split(\".\")[0]+\".jpg\"\n",
    "    img.save(filename=fn)\n",
    "    return fn"
   ]
  },
  {
   "cell_type": "code",
   "execution_count": 3,
   "metadata": {},
   "outputs": [],
   "source": [
    "def p_discriminate(p):\n",
    "    '''\n",
    "    judge whether the line input in a picture \n",
    "    '''\n",
    "    if str(p).find(\"img\") != -1:\n",
    "        return (0, \"pic\")\n",
    "    else:\n",
    "        return (1, \"book\")"
   ]
  },
  {
   "cell_type": "code",
   "execution_count": 4,
   "metadata": {},
   "outputs": [],
   "source": [
    "def base64_to_img(b64_data, image_type, order):\n",
    "    '''\n",
    "    Convert the base64 data back to regular binary image data \n",
    "    and figure out the image type (png, gif, jpg, etc)\n",
    "    '''\n",
    "    image_data = base64.b64decode(b64_data)\n",
    "    # image_type = imghdr.what('', image_data)\n",
    "    # Create the image file and tell the user about it\n",
    "    destination_file_name =\"img/\" + str(order) + \".\" + str(image_type)\n",
    "    try:\n",
    "        destination = open(destination_file_name, 'wb')\n",
    "    except IOError:\n",
    "        print (\"Unable to create image file. You might not have permission to create a file in this location.\")\n",
    "        exit()\n",
    "    else:\n",
    "        destination.write(image_data)\n",
    "        destination.close()\n",
    "        return destination_file_name\n",
    "        # print (\"New image file: {}\".format(destination_file_name))"
   ]
  },
  {
   "cell_type": "code",
   "execution_count": 5,
   "metadata": {},
   "outputs": [],
   "source": [
    "def re_the_src(img_src):\n",
    "    '''\n",
    "    return the src.sessions of the string\n",
    "    '''\n",
    "    # print(img_src)\n",
    "    this_img = BeautifulSoup(img_src, features=\"lxml\").find('img')\n",
    "    src = str(this_img.get('src'))\n",
    "    height = str(this_img.get('height'))\n",
    "    width = str(this_img.get('width'))\n",
    "    # print(src)\n",
    "    b64_data = src.split(\"base64,\")[1]\n",
    "    image_type = src.split(\"base64,\")[0].split(\"/\")[1][:-1]\n",
    "    return b64_data, image_type, height, width"
   ]
  },
  {
   "cell_type": "code",
   "execution_count": 6,
   "metadata": {},
   "outputs": [],
   "source": [
    "class tuban():\n",
    "    '''\n",
    "    a tuban class represents a tuban's basic structural information including imgs and the number of tuban\n",
    "    '''\n",
    "    def __init__(self, input_file):\n",
    "        '''\n",
    "        init the class\n",
    "        para: input_file: the file need to be rearrange \n",
    "        pare: output_file: the file after rearrange\n",
    "        '''\n",
    "        self.tuban_html = pydocx.PyDocX.to_html(input_file)\n",
    "        self.tuban_soup = BeautifulSoup(self.tuban_html, features=\"lxml\")\n",
    "        self.input = input_file\n",
    "        # self.output = output_file\n",
    "        self.errors = []\n",
    "        self.character = {}\n",
    "        self.ch_dict = {}\n",
    "        self.p_list = self.tuban_soup.select('p')\n",
    "    \n",
    "    def parse(self):\n",
    "        '''\n",
    "        parse the file (html form)\n",
    "        para: self\n",
    "        '''\n",
    "        print(\"parsing\")\n",
    "        p_list = self.p_list\n",
    "        flag = 0\n",
    "        # if the pre_stage = 1 means that the situation is booknum, 0 means the pictures\n",
    "        pre_stage = 0\n",
    "        pre_tag = 0\n",
    "        this_booknum = \"\"\n",
    "        this_character = []\n",
    "        pre_num = \"\"\n",
    "        for p in tqdm(p_list):\n",
    "            if flag%2 == 0:\n",
    "                this_booknum = \"\"\n",
    "            else:\n",
    "                this_character = []\n",
    "            if flag%2 == 0:\n",
    "                stage = p_discriminate(p)[0]\n",
    "                if stage == 1:\n",
    "                    if stage != pre_stage:\n",
    "                        this_booknum = p.text\n",
    "                        pre_stage = stage\n",
    "                    else:\n",
    "                        self.errors.append((\"error 1 多重简号或者换行符有误\", pre_num, p.text, \"flag=\"+str(flag)))\n",
    "                        return flag\n",
    "                else:\n",
    "                    self.errors.append((\"error 2 缺省简号或者字体截图中换行符有误\", pre_num, p.text, \"flag=\"+str(flag)))\n",
    "                    return flag\n",
    "            else:\n",
    "                stage = p_discriminate(p)[0]\n",
    "                if stage == 0:\n",
    "                    children = p.children\n",
    "                    tag = 1 # 0: character, 1:image\n",
    "                    cflag = 0\n",
    "                    for child in children:\n",
    "                        # if str(child)\n",
    "                        if cflag%2 ==0:\n",
    "                            if str(child).find(\"img\") == -1:\n",
    "                                tag = 0\n",
    "                                pre_tag = tag\n",
    "                                tmp_pair_character = str(child).strip()\n",
    "                            else:\n",
    "                                self.errors.append((\"error 3 出现连续文字结点\", this_booknum, p.text, \"flag=\"+str(flag)))\n",
    "                                return flag\n",
    "                        else:\n",
    "                            if str(child).find(\"img\") != -1:\n",
    "                                tag = 1\n",
    "                                if tag != pre_tag:\n",
    "                                    tmp_pair_image = str(child)\n",
    "                                else:\n",
    "                                    self.errors.append((\"error 4 出现连续图片\", this_booknum, p.text, \"flag=\"+str(flag)))\n",
    "                                    return flag\n",
    "                            else:\n",
    "                                self.errors.append((\"error 5 出现连续文字结点\", this_booknum, str(child), \"flag=\"+str(flag)))\n",
    "                                return flag\n",
    "                \n",
    "                            if len(tmp_pair_character)!=0 and len(tmp_pair_image)!=0:\n",
    "                                this_character.append((tmp_pair_character, tmp_pair_image))\n",
    "                        cflag+=1\n",
    "                    pre_stage = stage\n",
    "                else:\n",
    "                    self.errors.append((\"error 6 多重简号或者换行符有误\", this_booknum, p.text, \"flag=\",flag))\n",
    "                    return flag\n",
    "                    # flag-=1\n",
    "            \n",
    "            if len(this_booknum)!=0 and len(this_character)!=0 and flag%2==1:\n",
    "                # print(flag, len(this_booknum),len(this_character))\n",
    "                self.character[this_booknum] = this_character\n",
    "            pre_num = this_booknum\n",
    "            flag += 1\n",
    "    \n",
    "    def array2dict(self):\n",
    "        print(\"array2dict\")\n",
    "        array = self.character\n",
    "        self.ch_dict = {}\n",
    "        for k in array.keys():\n",
    "            for item in array[k]:\n",
    "                if item[0] not in self.ch_dict.keys():\n",
    "                    self.ch_dict[item[0]] = []\n",
    "                    self.ch_dict[item[0]].append((item[1], k))\n",
    "                else:\n",
    "                    self.ch_dict[item[0]].append((item[1], k))\n",
    "    \n",
    "    def array2dict_save(self):\n",
    "        print(\"array2dict_save\")\n",
    "        array = self.character\n",
    "        self.ch_dict = {}\n",
    "        flag = 0\n",
    "        for k in tqdm(array.keys()):\n",
    "            for item in array[k]:\n",
    "                if item[0] not in self.ch_dict.keys():\n",
    "                    self.ch_dict[item[0]] = []\n",
    "                    res = re_the_src(item[1])\n",
    "                    img_n = base64_to_img(res[0], res[1], flag)\n",
    "                    self.ch_dict[item[0]].append((img_n, k))\n",
    "                else:\n",
    "                    res = re_the_src(item[1])\n",
    "                    img_n = base64_to_img(res[0], res[1], flag)\n",
    "                    self.ch_dict[item[0]].append((img_n, k))\n",
    "                flag += 1\n",
    "    \n",
    "    def get_error(self):\n",
    "        return self.errors\n",
    "    \n",
    "    def get_output_html(self):\n",
    "        f = open(self.output, \"w\", encoding=\"utf8\")\n",
    "        for k in tqdm(self.ch_dict.keys()):\n",
    "            print(\"<p>\"+k+\"</p>\", file=f)\n",
    "            print(\"<p>\", end=\"\", file=f)\n",
    "            for item in self.ch_dict[k]:\n",
    "                print(item[0], end=\"\", file=f) # img\n",
    "                print(item[1], end=\",\", file=f) # book\n",
    "            print(\"</p>\", file=f)\n",
    "        f.close()\n",
    "        \n",
    "    def get_output_docx_by_pandoc(self):\n",
    "        output = pypandoc.convert_file(self.output, 'docx', outputfile=\"out59.docx\", extra_args=[\"-M8GB\", \"+RTS\", \"-K4096m\", \"-RTS\"])\n",
    "    \n",
    "    def get_output_docx_by_docx(self):\n",
    "        document = Document()\n",
    "        for k in tqdm(self.ch_dict.keys()):\n",
    "            paragraph_character = document.add_paragraph(k)\n",
    "            paragraph_image = document.add_paragraph()\n",
    "            for item in self.ch_dict[k]:\n",
    "                fig = item[0]\n",
    "                if fig.split(\".\")[1] == \"emf\":\n",
    "                    new_fig = convert_to_jpeg(fig)\n",
    "                    fig = new_fig\n",
    "                paragraph_image.add_run().add_picture(fig, width=Cm(1.5))\n",
    "                paragraph_image.add_run(item[1]) # book\n",
    "        document.save('demo.docx')"
   ]
  },
  {
   "cell_type": "code",
   "execution_count": 7,
   "metadata": {},
   "outputs": [
    {
     "name": "stderr",
     "output_type": "stream",
     "text": [
      "  5%|██▎                                                | 108/2350 [00:00<00:02, 1050.91it/s]"
     ]
    },
    {
     "name": "stdout",
     "output_type": "stream",
     "text": [
      "parsing\n"
     ]
    },
    {
     "name": "stderr",
     "output_type": "stream",
     "text": [
      "100%|██████████████████████████████████████████████████| 2350/2350 [00:02<00:00, 1102.08it/s]\n",
      "  1%|▍                                                      | 9/1175 [00:00<00:13, 86.26it/s]"
     ]
    },
    {
     "name": "stdout",
     "output_type": "stream",
     "text": [
      "array2dict_save\n"
     ]
    },
    {
     "name": "stderr",
     "output_type": "stream",
     "text": [
      "100%|███████████████████████████████████████████████████| 1175/1175 [00:09<00:00, 120.17it/s]\n"
     ]
    }
   ],
   "source": [
    "tb = tuban('../data/59.docx')\n",
    "tb.parse()\n",
    "tb.array2dict_save()"
   ]
  },
  {
   "cell_type": "code",
   "execution_count": 8,
   "metadata": {},
   "outputs": [
    {
     "name": "stderr",
     "output_type": "stream",
     "text": [
      "100%|██████████████████████████████████████████████████| 1139/1139 [2:47:34<00:00,  8.83s/it]\n"
     ]
    }
   ],
   "source": [
    "tb.get_output_docx_by_docx()"
   ]
  },
  {
   "cell_type": "code",
   "execution_count": null,
   "metadata": {},
   "outputs": [],
   "source": []
  }
 ],
 "metadata": {
  "kernelspec": {
   "display_name": "Python 3",
   "language": "python",
   "name": "python3"
  },
  "language_info": {
   "codemirror_mode": {
    "name": "ipython",
    "version": 3
   },
   "file_extension": ".py",
   "mimetype": "text/x-python",
   "name": "python",
   "nbconvert_exporter": "python",
   "pygments_lexer": "ipython3",
   "version": "3.7.3"
  }
 },
 "nbformat": 4,
 "nbformat_minor": 4
}
