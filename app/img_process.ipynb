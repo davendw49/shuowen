{
 "cells": [
  {
   "cell_type": "code",
   "execution_count": 1,
   "metadata": {},
   "outputs": [],
   "source": [
    "import cv2 as cv"
   ]
  },
  {
   "cell_type": "code",
   "execution_count": 15,
   "metadata": {},
   "outputs": [],
   "source": [
    "def img2gray(filename):\n",
    "    img = cv.imread(\"img/\" + filename, cv.IMREAD_GRAYSCALE)\n",
    "    Contrastimg = cv.addWeighted(img, 1.5, img, 2,0)\n",
    "    img = cv.cvtColor(img,cv.COLOR_BGR2RGB)\n",
    "    Contrastimg = cv.cvtColor(Contrastimg,cv.COLOR_BGR2RGB)\n",
    "    cv.imwrite(\"sampleimg/\" + filename, Contrastimg)"
   ]
  },
  {
   "cell_type": "code",
   "execution_count": 3,
   "metadata": {},
   "outputs": [],
   "source": [
    "def Contrast_and_Brightness(alpha, beta, img):\n",
    "    blank = np.zeros(img.shape, img.dtype)\n",
    "    # dst = alpha * img + beta * blank\n",
    "    dst = cv2.addWeighted(img, alpha, blank, 1-alpha, beta)\n",
    "    return dst"
   ]
  },
  {
   "cell_type": "code",
   "execution_count": 19,
   "metadata": {},
   "outputs": [
    {
     "name": "stdout",
     "output_type": "stream",
     "text": [
      "11073\n"
     ]
    }
   ],
   "source": [
    "import os\n",
    "filePath = 'img/'\n",
    "imglist = os.listdir(filePath)\n",
    "print(len(imglist))"
   ]
  },
  {
   "cell_type": "code",
   "execution_count": 20,
   "metadata": {},
   "outputs": [],
   "source": [
    "error = []\n",
    "for item in imglist:\n",
    "    if item.split(\".\")[1] == \"png\":\n",
    "        try:\n",
    "            img2gray(item)\n",
    "        except:\n",
    "            error.append(item)"
   ]
  },
  {
   "cell_type": "code",
   "execution_count": 21,
   "metadata": {},
   "outputs": [
    {
     "data": {
      "text/plain": [
       "[]"
      ]
     },
     "execution_count": 21,
     "metadata": {},
     "output_type": "execute_result"
    }
   ],
   "source": [
    "error"
   ]
  },
  {
   "cell_type": "code",
   "execution_count": 7,
   "metadata": {},
   "outputs": [],
   "source": [
    "dict_err = {\n",
    "    '0497' : '𦺶',\n",
    "    '1877' : '𡎐',\n",
    "    '1940b' : '𨾀',\n",
    "    '2484c' : '𠆉',\n",
    "    '2497b' : '𢆯',\n",
    "    '3040' : '𠀀',\n",
    "    '3155' : '𧗁',\n",
    "    '3274' : '𦉈',\n",
    "    '3348' : '𡕨',\n",
    "    '3411' : '𣓀',\n",
    "    '4167' : '𨛜',\n",
    "    '4168' : '𨞰',\n",
    "    '4332b' : '𣡷',\n",
    "    '4507' : '𣎳',\n",
    "    '4977' : '傲',\n",
    "    '5759' : '𠨖',\n",
    "    '5762b' : '𢮮',\n",
    "    '5784b' : '𠣴',\n",
    "    '5801' : '𩴪',\n",
    "    '5949' : '𠪪',\n",
    "    '5985' : '礜',\n",
    "    '6183' : '駾',\n",
    "    '6333' : '𤜵',\n",
    "    '6831' : '怓',\n",
    "    '7390b' : '太',\n",
    "    '7440a' : '𡿨',\n",
    "    '7444b' : '𡿱',\n",
    "    '7994' : '掩',\n",
    "    '8315' : '毐',\n",
    "    '8363' : '𠄌',\n",
    "    '8877' : '𧍞',\n",
    "    '9044a' : '垐',\n",
    "    '9151b' : '𤲸',\n",
    "    '9213b' : '𠊍',\n",
    "    '9258' : '𨦕',\n",
    "    '9528' : '輸',\n",
    "    '9671c' : '亖',\n",
    "    '9701b' : '𢀒'\n",
    "}"
   ]
  },
  {
   "cell_type": "code",
   "execution_count": 8,
   "metadata": {},
   "outputs": [],
   "source": [
    "import shutil"
   ]
  },
  {
   "cell_type": "code",
   "execution_count": 14,
   "metadata": {},
   "outputs": [],
   "source": [
    "for err_img in error:\n",
    "    ft = err_img[:4]\n",
    "    st = err_img[:5]\n",
    "    # print(ft, st)\n",
    "    try:\n",
    "        if ft in dict_err.keys():\n",
    "            src = \"img/\"+err_img\n",
    "            dst = \"sampleimg/\" + ft + \".png\" \n",
    "            shutil.move(src, dst)\n",
    "            print(\"success\")\n",
    "        elif st in dict_err.keys():\n",
    "            src = \"img/\"+err_img\n",
    "            dst = \"sampleimg/\" + st + \".png\" \n",
    "            shutil.move(src, dst)\n",
    "            print(\"success\")\n",
    "        else:\n",
    "            print(err_img)\n",
    "    except:\n",
    "        pass"
   ]
  },
  {
   "cell_type": "code",
   "execution_count": 16,
   "metadata": {},
   "outputs": [],
   "source": [
    "def img2gray2(filename):\n",
    "    img = cv.imread(filename, cv.IMREAD_GRAYSCALE)\n",
    "    Contrastimg = cv.addWeighted(img, 1.5, img, 2,0)\n",
    "    img = cv.cvtColor(img,cv.COLOR_BGR2RGB)\n",
    "    Contrastimg = cv.cvtColor(Contrastimg,cv.COLOR_BGR2RGB)\n",
    "    cv.imwrite(filename, Contrastimg)"
   ]
  },
  {
   "cell_type": "code",
   "execution_count": 18,
   "metadata": {},
   "outputs": [
    {
     "name": "stdout",
     "output_type": "stream",
     "text": [
      "success\n",
      "success\n",
      "success\n",
      "success\n",
      "success\n",
      "success\n",
      "success\n",
      "success\n",
      "success\n",
      "success\n",
      "success\n",
      "success\n",
      "success\n",
      "success\n",
      "success\n",
      "success\n",
      "success\n",
      "success\n",
      "success\n",
      "success\n",
      "success\n",
      "success\n",
      "success\n",
      "success\n",
      "success\n",
      "success\n",
      "success\n",
      "success\n",
      "success\n",
      "success\n",
      "success\n",
      "success\n",
      "success\n",
      "success\n",
      "success\n",
      "success\n",
      "success\n",
      "success\n"
     ]
    }
   ],
   "source": [
    "for err_img in error:\n",
    "    ft = err_img[:4]\n",
    "    st = err_img[:5]\n",
    "    # print(ft, st)\n",
    "    try:\n",
    "        if ft in dict_err.keys():\n",
    "            src = \"sampleimg/\" + ft + \".png\"\n",
    "            dst = \"img/\" + ft + \".png\"\n",
    "            shutil.move(src, dst)\n",
    "            print(\"success\")\n",
    "        elif st in dict_err.keys():\n",
    "            src = \"sampleimg/\" + st + \".png\" \n",
    "            dst = \"img/\" + st + \".png\" \n",
    "            shutil.move(src, dst)\n",
    "            print(\"success\")\n",
    "        else:\n",
    "            print(err_img)\n",
    "    except:\n",
    "        pass"
   ]
  },
  {
   "cell_type": "code",
   "execution_count": null,
   "metadata": {},
   "outputs": [],
   "source": []
  }
 ],
 "metadata": {
  "kernelspec": {
   "display_name": "Python 3",
   "language": "python",
   "name": "python3"
  },
  "language_info": {
   "codemirror_mode": {
    "name": "ipython",
    "version": 3
   },
   "file_extension": ".py",
   "mimetype": "text/x-python",
   "name": "python",
   "nbconvert_exporter": "python",
   "pygments_lexer": "ipython3",
   "version": "3.7.3"
  }
 },
 "nbformat": 4,
 "nbformat_minor": 4
}
