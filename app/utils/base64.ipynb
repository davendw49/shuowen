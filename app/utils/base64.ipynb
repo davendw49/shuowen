{
 "cells": [
  {
   "cell_type": "code",
   "execution_count": 32,
   "metadata": {},
   "outputs": [],
   "source": [
    "import docx\n",
    "from sys import argv, exit\n",
    "import os\n",
    "import base64\n",
    "import imghdr"
   ]
  },
  {
   "cell_type": "code",
   "execution_count": 31,
   "metadata": {},
   "outputs": [],
   "source": [
    "filename = \"../data/084.docx\""
   ]
  },
  {
   "cell_type": "code",
   "execution_count": 39,
   "metadata": {},
   "outputs": [
    {
     "name": "stdout",
     "output_type": "stream",
     "text": [
      "New image file: ./test_converted.emf\n"
     ]
    }
   ],
   "source": [
    "# This script converts base64 encoded image data to an image file of the appropriate type.\n",
    "# It's kind of quick and dirty, not entirely bullet proof, but this is utility not a library.\n",
    "# Could be improved by allowing batch conversions and wrapping the file reads/writes in try/except blocks\n",
    "#\n",
    "# Arguments: <filename> : a single file that contains the base64 encoded image data.\n",
    "#\n",
    "# Result: A new image file of the appropriate type called <filename>_converted.{png, gif, jpg, etc) in the same\n",
    "#         folder as the source image\n",
    "\n",
    "b64_data = ''\n",
    "\n",
    "file_name = \"./test.txt\"\n",
    "file_base_name = os.path.splitext(file_name)[0]\n",
    "    \n",
    "# Open the source file and read in the base64 encoded data\n",
    "try:\n",
    "    source = open(file_name, 'r')\n",
    "except IOError:\n",
    "    print (\"Unable to open {}.  Are you sure it's there?\".format(file_name))\n",
    "    exit()\n",
    "else:\n",
    "    b64_data = source.read()\n",
    "    source.close()\n",
    "\n",
    "# Convert the base64 data back to regular binary image data and figure out the image type (png, gif, jpg, etc)\n",
    "image_data = base64.b64decode(b64_data)\n",
    "image_type = imghdr.what('', image_data)\n",
    "\n",
    "# Create the image file and tell the user about it\n",
    "destination_file_name = str(file_base_name) + '_converted.' + str(\"emf\")\n",
    "try:\n",
    "    destination = open(destination_file_name, 'wb')\n",
    "except IOError:\n",
    "    print (\"Unable to create image file. You might not have permission to create a file in this location.\")\n",
    "    exit()\n",
    "else:\n",
    "    destination.write(image_data)\n",
    "    destination.close()\n",
    "    print (\"New image file: {}\".format(destination_file_name))"
   ]
  },
  {
   "cell_type": "code",
   "execution_count": null,
   "metadata": {},
   "outputs": [],
   "source": []
  }
 ],
 "metadata": {
  "kernelspec": {
   "display_name": "Python 3",
   "language": "python",
   "name": "python3"
  },
  "language_info": {
   "codemirror_mode": {
    "name": "ipython",
    "version": 3
   },
   "file_extension": ".py",
   "mimetype": "text/x-python",
   "name": "python",
   "nbconvert_exporter": "python",
   "pygments_lexer": "ipython3",
   "version": "3.7.3"
  }
 },
 "nbformat": 4,
 "nbformat_minor": 4
}
