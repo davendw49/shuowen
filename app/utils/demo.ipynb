{
 "cells": [
  {
   "cell_type": "code",
   "execution_count": 1,
   "metadata": {},
   "outputs": [],
   "source": [
    "import pydocx\n",
    "from bs4 import BeautifulSoup\n",
    "import re\n",
    "import codecs\n",
    "import pymysql\n",
    "\n",
    "import sys"
   ]
  },
  {
   "cell_type": "code",
   "execution_count": 36,
   "metadata": {},
   "outputs": [],
   "source": [
    "f = open(\"../test0.html\", \"w\", encoding=\"utf8\")\n",
    "f_t = open(\"../test0.txt\", \"w\", encoding=\"utf8\")"
   ]
  },
  {
   "cell_type": "code",
   "execution_count": 37,
   "metadata": {},
   "outputs": [],
   "source": [
    "html = pydocx.PyDocX.to_html('../data/test0.docx')\n",
    "print(html, file=f)\n",
    "soup = BeautifulSoup(html)"
   ]
  },
  {
   "cell_type": "code",
   "execution_count": 38,
   "metadata": {},
   "outputs": [],
   "source": [
    "f.close()"
   ]
  },
  {
   "cell_type": "code",
   "execution_count": 39,
   "metadata": {},
   "outputs": [
    {
     "name": "stdout",
     "output_type": "stream",
     "text": [
      "8\n"
     ]
    }
   ],
   "source": [
    "p_list = soup.select('p')  #标签选择器\n",
    "print(len(p_list))"
   ]
  },
  {
   "cell_type": "code",
   "execution_count": 40,
   "metadata": {},
   "outputs": [],
   "source": [
    "def parse_p(p):\n",
    "    if str(p).find(\"img\") != -1:\n",
    "        return (0, \"pic\")\n",
    "    else:\n",
    "        return (1, \"book\")"
   ]
  },
  {
   "cell_type": "code",
   "execution_count": 41,
   "metadata": {},
   "outputs": [
    {
     "data": {
      "text/plain": [
       "(1, 'book')"
      ]
     },
     "execution_count": 41,
     "metadata": {},
     "output_type": "execute_result"
    }
   ],
   "source": [
    "parse_p(p_list[0])"
   ]
  },
  {
   "cell_type": "code",
   "execution_count": 42,
   "metadata": {},
   "outputs": [],
   "source": [
    "this = p_list[1]"
   ]
  },
  {
   "cell_type": "code",
   "execution_count": 46,
   "metadata": {},
   "outputs": [
    {
     "data": {
      "text/plain": [
       "'年'"
      ]
     },
     "execution_count": 46,
     "metadata": {},
     "output_type": "execute_result"
    }
   ],
   "source": [
    "this_chinese = this.next_element\n",
    "this_chinese[-1]"
   ]
  },
  {
   "cell_type": "code",
   "execution_count": 44,
   "metadata": {},
   "outputs": [
    {
     "name": "stdout",
     "output_type": "stream",
     "text": [
      "child 1 岁年\n",
      "child 2 <img height=\"21px\" src=\"data:image/jpeg;base64,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\" width=\"38px\"/>\n",
      "child 3 廿\n",
      "child 4 <img height=\"12px\" src=\"data:image/jpeg;base64,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\" width=\"38px\"/>\n",
      "child 5 五  \n",
      "child 6 <img height=\"18px\" src=\"data:image/jpeg;base64,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\" width=\"38px\"/>\n",
      "child 7  \n"
     ]
    }
   ],
   "source": [
    "flag=0\n",
    "for i in this.children:\n",
    "    flag+=1\n",
    "    print(\"child\", flag, i)"
   ]
  },
  {
   "cell_type": "code",
   "execution_count": null,
   "metadata": {},
   "outputs": [],
   "source": []
  },
  {
   "cell_type": "code",
   "execution_count": 54,
   "metadata": {},
   "outputs": [],
   "source": [
    "flag = 0\n",
    "# if the pre_stage = 1 means that the situation is booknum, 0 means the pictures\n",
    "pre_stage = 0\n",
    "for p in p_list:\n",
    "    if flag%2 == 0:\n",
    "        if parse_p(p)[0] == 1:\n",
    "            if parse_p(p)[0] != pre_stage:\n",
    "                pass\n",
    "            else:\n",
    "                print(flag, p.text)\n",
    "                break\n",
    "        else:\n",
    "            print(flag, p.text)\n",
    "            break    \n",
    "    else:\n",
    "        pass\n",
    "    flag += 1"
   ]
  },
  {
   "cell_type": "code",
   "execution_count": 60,
   "metadata": {},
   "outputs": [],
   "source": [
    "import pypandoc\n",
    "output = pypandoc.convert_file('../test0.html', 'docx', outputfile=\"out.docx\")"
   ]
  },
  {
   "cell_type": "code",
   "execution_count": null,
   "metadata": {},
   "outputs": [],
   "source": []
  }
 ],
 "metadata": {
  "kernelspec": {
   "display_name": "Python 3",
   "language": "python",
   "name": "python3"
  },
  "language_info": {
   "codemirror_mode": {
    "name": "ipython",
    "version": 3
   },
   "file_extension": ".py",
   "mimetype": "text/x-python",
   "name": "python",
   "nbconvert_exporter": "python",
   "pygments_lexer": "ipython3",
   "version": "3.6.8"
  }
 },
 "nbformat": 4,
 "nbformat_minor": 4
}
