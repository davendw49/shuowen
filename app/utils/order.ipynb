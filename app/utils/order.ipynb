{
 "cells": [
  {
   "cell_type": "code",
   "execution_count": 3,
   "metadata": {},
   "outputs": [],
   "source": [
    "from bs4 import BeautifulSoup\n",
    "from docx import Document\n",
    "from tqdm import tqdm"
   ]
  },
  {
   "cell_type": "markdown",
   "metadata": {},
   "source": [
    "# fix shuowen dcdl.js"
   ]
  },
  {
   "cell_type": "code",
   "execution_count": 2,
   "metadata": {},
   "outputs": [],
   "source": [
    "def re_the_src(img_src):\n",
    "    this_img = BeautifulSoup(img_src, features=\"lxml\").find('img')\n",
    "    src = str(this_img.get('src'))\n",
    "    img_id = src.split(\"/\")[1]\n",
    "    return img_id"
   ]
  },
  {
   "cell_type": "code",
   "execution_count": 3,
   "metadata": {},
   "outputs": [],
   "source": [
    "def re_src_list(srcs):\n",
    "    img_ids = []\n",
    "    for src in srcs:\n",
    "        img_ids.append(re_the_src(src))\n",
    "    return img_ids"
   ]
  },
  {
   "cell_type": "code",
   "execution_count": 9,
   "metadata": {},
   "outputs": [],
   "source": [
    "f = open(\"dcd1.js\", \"r\", encoding=\"utf8\")"
   ]
  },
  {
   "cell_type": "code",
   "execution_count": 10,
   "metadata": {},
   "outputs": [],
   "source": [
    "f_single = open(\"single.txt\", \"w\", encoding=\"utf8\")\n",
    "f_multiple = open(\"multiple.txt\", \"w\", encoding=\"utf8\")\n",
    "multiple = []\n",
    "single = []\n",
    "for line in f:\n",
    "    if len(line[:-1].split(\",\")) != 10:\n",
    "        print(line[:-1])\n",
    "    else:\n",
    "        c = line[:-1].split(\",\")\n",
    "        id = c[0].split(\"'\")[1]\n",
    "        img = re_src_list(c[3].split(\"'\")[1].split(\"<br>\"))\n",
    "        char = c[4].split(\"'\")[1].replace('<div style=\"display:none;\">_','',1)\n",
    "        if len(char) == 1:\n",
    "            print(id, img, char, file=f_single)\n",
    "            single.append((id, img, char))\n",
    "        else:\n",
    "            print(id, img, char, file=f_multiple)\n",
    "            multiple.append((id, img, char))\n",
    "f_single.close()\n",
    "f_multiple.close()"
   ]
  },
  {
   "cell_type": "code",
   "execution_count": 11,
   "metadata": {},
   "outputs": [],
   "source": [
    "f.close()"
   ]
  },
  {
   "cell_type": "code",
   "execution_count": 12,
   "metadata": {},
   "outputs": [],
   "source": [
    "def convertdoc(m):\n",
    "    document = Document()\n",
    "    for k in tqdm(m):\n",
    "        paragraph_m = document.add_paragraph()\n",
    "        paragraph_m.add_run(k[0])\n",
    "        paragraph_m.add_run(\": \")\n",
    "        for item in k[1]:\n",
    "            paragraph_m.add_run().add_picture(\"sam/\"+item)\n",
    "        paragraph_m.add_run(k[2])\n",
    "    document.save('m.docx')"
   ]
  },
  {
   "cell_type": "code",
   "execution_count": 19,
   "metadata": {},
   "outputs": [
    {
     "name": "stderr",
     "output_type": "stream",
     "text": [
      "100%|████████████████████████████████████████████████████| 4545/4545 [10:58<00:00,  6.90it/s]\n"
     ]
    }
   ],
   "source": [
    "convertdoc(multiple)"
   ]
  },
  {
   "cell_type": "code",
   "execution_count": 13,
   "metadata": {},
   "outputs": [
    {
     "name": "stderr",
     "output_type": "stream",
     "text": [
      "100%|████████████████████████████████████████████████████| 5287/5287 [09:03<00:00,  9.73it/s]\n"
     ]
    }
   ],
   "source": [
    "convertdoc(single)"
   ]
  },
  {
   "cell_type": "markdown",
   "metadata": {},
   "source": [
    "# add config.json"
   ]
  },
  {
   "cell_type": "code",
   "execution_count": 1,
   "metadata": {},
   "outputs": [],
   "source": [
    "import pydocx\n",
    "import base64\n",
    "import imghdr"
   ]
  },
  {
   "cell_type": "markdown",
   "metadata": {},
   "source": [
    "## 2k"
   ]
  },
  {
   "cell_type": "code",
   "execution_count": 4,
   "metadata": {},
   "outputs": [],
   "source": [
    "# f = open(\"2k.html\", \"w\", encoding=\"utf8\")\n",
    "html = pydocx.PyDocX.to_html(\"../data/2k.docx\")\n",
    "# print(html,file=f)\n",
    "soup = BeautifulSoup(html)"
   ]
  },
  {
   "cell_type": "code",
   "execution_count": 5,
   "metadata": {},
   "outputs": [
    {
     "name": "stdout",
     "output_type": "stream",
     "text": [
      "2941\n"
     ]
    }
   ],
   "source": [
    "p_list = soup.select('p')  #标签选择器\n",
    "print(len(p_list))"
   ]
  },
  {
   "cell_type": "code",
   "execution_count": 6,
   "metadata": {},
   "outputs": [],
   "source": [
    "def base64_to_img(b64_data, image_type, order):\n",
    "    '''\n",
    "    Convert the base64 data back to regular binary image data \n",
    "    and figure out the image type (png, gif, jpg, etc)\n",
    "    '''\n",
    "    image_data = base64.b64decode(b64_data)\n",
    "    # image_type = imghdr.what('', image_data)\n",
    "    # Create the image file and tell the user about it\n",
    "    destination_file_name =\"img/\" + str(order) + \".\" + str(image_type)\n",
    "    try:\n",
    "        destination = open(destination_file_name, 'wb')\n",
    "    except IOError:\n",
    "        print (\"Unable to create image file. You might not have permission to create a file in this location.\")\n",
    "        exit()\n",
    "    else:\n",
    "        destination.write(image_data)\n",
    "        destination.close()\n",
    "        return destination_file_name\n",
    "        # print (\"New image file: {}\".format(destination_file_name))"
   ]
  },
  {
   "cell_type": "code",
   "execution_count": 7,
   "metadata": {},
   "outputs": [],
   "source": [
    "def re_the_src(this_img):\n",
    "    '''\n",
    "    return the src.sessions of the string\n",
    "    '''\n",
    "    src = str(this_img.get('src'))\n",
    "    height = str(this_img.get('height'))\n",
    "    width = str(this_img.get('width'))\n",
    "    # print(src)\n",
    "    b64_data = src.split(\"base64,\")[1]\n",
    "    image_type = src.split(\"base64,\")[0].split(\"/\")[1][:-1]\n",
    "    return b64_data, image_type, height, width"
   ]
  },
  {
   "cell_type": "code",
   "execution_count": 8,
   "metadata": {},
   "outputs": [],
   "source": [
    "flag = 0\n",
    "k2_dict = {}\n",
    "for img in p_list:\n",
    "    flag += 1\n",
    "    a = img.text\n",
    "    chara = a[-1]\n",
    "    theid = a[:-1].replace(\":\",\"\").strip()\n",
    "    k2_dict[theid] = chara\n",
    "    tmp = re_the_src(img.img)\n",
    "    base64_to_img(tmp[0], tmp[1], theid)\n",
    "    # print(theid, chara)"
   ]
  },
  {
   "cell_type": "markdown",
   "metadata": {},
   "source": [
    "## 4k"
   ]
  },
  {
   "cell_type": "code",
   "execution_count": 9,
   "metadata": {},
   "outputs": [],
   "source": [
    "# f = open(\"2k.html\", \"w\", encoding=\"utf8\")\n",
    "html = pydocx.PyDocX.to_html(\"../data/4k.docx\")\n",
    "# print(html,file=f)\n",
    "soup = BeautifulSoup(html)"
   ]
  },
  {
   "cell_type": "code",
   "execution_count": 10,
   "metadata": {},
   "outputs": [
    {
     "name": "stdout",
     "output_type": "stream",
     "text": [
      "2871\n"
     ]
    }
   ],
   "source": [
    "p_list = soup.select('p')  #标签选择器\n",
    "print(len(p_list))"
   ]
  },
  {
   "cell_type": "code",
   "execution_count": 12,
   "metadata": {},
   "outputs": [],
   "source": [
    "flag = 0\n",
    "k4_dict = {}\n",
    "for img in p_list:\n",
    "    flag += 1\n",
    "    a = img.text\n",
    "    chara = a[-1]\n",
    "    theid = a[:-1].replace(\":\",\"\").strip()\n",
    "    k4_dict[theid] = chara\n",
    "    tmp = re_the_src(img.img)\n",
    "    base64_to_img(tmp[0], tmp[1], theid)\n",
    "    # print(theid, chara)"
   ]
  },
  {
   "cell_type": "markdown",
   "metadata": {},
   "source": [
    "## no wrong"
   ]
  },
  {
   "cell_type": "code",
   "execution_count": 13,
   "metadata": {},
   "outputs": [],
   "source": [
    "# f = open(\"2k.html\", \"w\", encoding=\"utf8\")\n",
    "html = pydocx.PyDocX.to_html(\"../data/m.docx\")\n",
    "# print(html,file=f)\n",
    "soup = BeautifulSoup(html)"
   ]
  },
  {
   "cell_type": "code",
   "execution_count": 14,
   "metadata": {},
   "outputs": [
    {
     "name": "stdout",
     "output_type": "stream",
     "text": [
      "5287\n"
     ]
    }
   ],
   "source": [
    "p_list = soup.select('p')  #标签选择器\n",
    "print(len(p_list))"
   ]
  },
  {
   "cell_type": "code",
   "execution_count": 15,
   "metadata": {},
   "outputs": [],
   "source": [
    "flag = 0\n",
    "k_dict = {}\n",
    "for img in p_list:\n",
    "    flag += 1\n",
    "    a = img.text\n",
    "    chara = a[-1]\n",
    "    theid = a[:-1].replace(\":\",\"\").strip()\n",
    "    k_dict[theid] = chara\n",
    "    tmp = re_the_src(img.img)\n",
    "    base64_to_img(tmp[0], tmp[1], theid)\n",
    "    # print(theid, chara)"
   ]
  },
  {
   "cell_type": "markdown",
   "metadata": {},
   "source": [
    "## merge"
   ]
  },
  {
   "cell_type": "code",
   "execution_count": 16,
   "metadata": {},
   "outputs": [],
   "source": [
    "def Merge(dict1, dict2):\n",
    "    res = {**dict1, **dict2}\n",
    "    return res"
   ]
  },
  {
   "cell_type": "code",
   "execution_count": 35,
   "metadata": {},
   "outputs": [],
   "source": [
    "# 两个字典\n",
    "dict1 = {\n",
    "    '0001': \"一\",\n",
    "    '0497' : '𦺶',\n",
    "    '1877' : '𡎐',\n",
    "    '1940b' : '𨾀',\n",
    "    '2484c' : '𠆉',\n",
    "    '2497b' : '𢆯',\n",
    "    '3040' : '𠀀',\n",
    "    '3155' : '𧗁',\n",
    "    '3274' : '𦉈',\n",
    "    '3348' : '𡕨',\n",
    "    '3411' : '𣓀',\n",
    "    '4167' : '𨛜',\n",
    "    '4168' : '𨞰',\n",
    "    '4332b' : '𣡷',\n",
    "    '4507' : '𣎳',\n",
    "    '4977' : '傲',\n",
    "    '5759' : '𠨖',\n",
    "    '5762b' : '𢮮',\n",
    "    '5784b' : '𠣴',\n",
    "    '5801' : '𩴪',\n",
    "    '5949' : '𠪪',\n",
    "    '5985' : '礜',\n",
    "    '6183' : '駾',\n",
    "    '6333' : '𤜵',\n",
    "    '6831' : '怓',\n",
    "    '7390b' : '太',\n",
    "    '7440a' : '𡿨',\n",
    "    '7444b' : '𡿱',\n",
    "    '7994' : '掩',\n",
    "    '8315' : '毐',\n",
    "    '8363' : '𠄌',\n",
    "    '8877' : '𧍞',\n",
    "    '9044a' : '垐',\n",
    "    '9151b' : '𤲸',\n",
    "    '9213b' : '𠊍',\n",
    "    '9258' : '𨦕',\n",
    "    '9528' : '輸',\n",
    "    '9671c' : '亖',\n",
    "    '9701b' : '𢀒'\n",
    "}"
   ]
  },
  {
   "cell_type": "code",
   "execution_count": 36,
   "metadata": {},
   "outputs": [],
   "source": [
    "k4k2 = Merge(k2_dict, k4_dict)"
   ]
  },
  {
   "cell_type": "code",
   "execution_count": 37,
   "metadata": {},
   "outputs": [],
   "source": [
    "k1 = Merge(k_dict, dict1)"
   ]
  },
  {
   "cell_type": "code",
   "execution_count": 38,
   "metadata": {},
   "outputs": [],
   "source": [
    "whole = Merge(k1, k4k2)"
   ]
  },
  {
   "cell_type": "code",
   "execution_count": 39,
   "metadata": {},
   "outputs": [
    {
     "data": {
      "text/plain": [
       "11110"
      ]
     },
     "execution_count": 39,
     "metadata": {},
     "output_type": "execute_result"
    }
   ],
   "source": [
    "len(whole.keys())"
   ]
  },
  {
   "cell_type": "code",
   "execution_count": 40,
   "metadata": {},
   "outputs": [],
   "source": [
    "import json"
   ]
  },
  {
   "cell_type": "code",
   "execution_count": 41,
   "metadata": {},
   "outputs": [
    {
     "name": "stdout",
     "output_type": "stream",
     "text": [
      "加载入文件完成...\n"
     ]
    }
   ],
   "source": [
    "with open(\"id2ch.json\",\"w\", encoding=\"utf8\") as f:\n",
    "    json.dump(whole, f)\n",
    "    print(\"加载入文件完成...\")"
   ]
  },
  {
   "cell_type": "code",
   "execution_count": 5,
   "metadata": {},
   "outputs": [],
   "source": [
    "with open(\"id2ch.json\",'r') as load_f:\n",
    "    id2ch = json.load(load_f)\n",
    "new_whole = {value:key for key,value in id2ch.items()}"
   ]
  },
  {
   "cell_type": "code",
   "execution_count": 7,
   "metadata": {},
   "outputs": [
    {
     "name": "stdout",
     "output_type": "stream",
     "text": [
      "加载入文件完成...\n"
     ]
    }
   ],
   "source": [
    "# new_whole = dict(zip(whole.values(), whole.keys()))\n",
    "with open(\"ch2id.json\",\"w\", encoding=\"utf8\") as f:\n",
    "    json.dump(new_whole, f)\n",
    "    print(\"加载入文件完成...\")"
   ]
  },
  {
   "cell_type": "code",
   "execution_count": null,
   "metadata": {},
   "outputs": [],
   "source": [
    "whole[\"3155\"]"
   ]
  },
  {
   "cell_type": "markdown",
   "metadata": {},
   "source": [
    "# 正式工作区"
   ]
  },
  {
   "cell_type": "code",
   "execution_count": 2,
   "metadata": {},
   "outputs": [],
   "source": [
    "import json"
   ]
  },
  {
   "cell_type": "code",
   "execution_count": 3,
   "metadata": {},
   "outputs": [],
   "source": [
    "with open(\"id2ch.json\",'r') as load_f:\n",
    "    id2ch = json.load(load_f)"
   ]
  },
  {
   "cell_type": "code",
   "execution_count": 3,
   "metadata": {},
   "outputs": [],
   "source": [
    "with open(\"ch2id.json\",'r') as load_f:\n",
    "    ch2id = json.load(load_f)"
   ]
  },
  {
   "cell_type": "code",
   "execution_count": 5,
   "metadata": {},
   "outputs": [
    {
     "data": {
      "text/plain": [
       "'𧗁'"
      ]
     },
     "execution_count": 5,
     "metadata": {},
     "output_type": "execute_result"
    }
   ],
   "source": [
    "id2ch[\"3155\"]"
   ]
  },
  {
   "cell_type": "code",
   "execution_count": 4,
   "metadata": {},
   "outputs": [
    {
     "ename": "KeyError",
     "evalue": "'𧗁'",
     "output_type": "error",
     "traceback": [
      "\u001b[1;31m---------------------------------------------------------------------------\u001b[0m",
      "\u001b[1;31mKeyError\u001b[0m                                  Traceback (most recent call last)",
      "\u001b[1;32m<ipython-input-4-32906d060f5b>\u001b[0m in \u001b[0;36m<module>\u001b[1;34m\u001b[0m\n\u001b[1;32m----> 1\u001b[1;33m \u001b[0mch2id\u001b[0m\u001b[1;33m[\u001b[0m\u001b[1;34m\"𧗁\"\u001b[0m\u001b[1;33m]\u001b[0m\u001b[1;33m\u001b[0m\u001b[1;33m\u001b[0m\u001b[0m\n\u001b[0m",
      "\u001b[1;31mKeyError\u001b[0m: '𧗁'"
     ]
    }
   ],
   "source": [
    "ch2id[\"𧗁\"]"
   ]
  },
  {
   "cell_type": "code",
   "execution_count": null,
   "metadata": {},
   "outputs": [],
   "source": []
  }
 ],
 "metadata": {
  "kernelspec": {
   "display_name": "Python 3",
   "language": "python",
   "name": "python3"
  },
  "language_info": {
   "codemirror_mode": {
    "name": "ipython",
    "version": 3
   },
   "file_extension": ".py",
   "mimetype": "text/x-python",
   "name": "python",
   "nbconvert_exporter": "python",
   "pygments_lexer": "ipython3",
   "version": "3.7.3"
  }
 },
 "nbformat": 4,
 "nbformat_minor": 4
}
